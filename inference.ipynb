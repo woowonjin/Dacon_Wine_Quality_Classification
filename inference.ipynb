{
 "cells": [
  {
   "cell_type": "code",
   "execution_count": 10,
   "id": "67a3599a-42bf-452c-be15-f86a00b57783",
   "metadata": {},
   "outputs": [],
   "source": [
    "import pandas as pd\n",
    "import torch\n",
    "import torch.nn.functional as F\n",
    "from model import CustomModel\n",
    "import numpy as np"
   ]
  },
  {
   "cell_type": "code",
   "execution_count": 11,
   "id": "26dd5e1c-84c9-4dfb-aff0-5f713fbec579",
   "metadata": {},
   "outputs": [],
   "source": [
    "df = pd.read_csv(\"dataset/test.csv\")\n",
    "df.drop([\"id\"], axis=1, inplace=True)\n",
    "column_list = list(df.columns)\n",
    "del column_list[-1]\n",
    "column_list.append(\"type_int\")\n",
    "df_type = df[\"type\"]\n",
    "df = (df-df.mean())/df.std()\n",
    "df[\"type_int\"] = df_type.map(lambda x : -1 if x == \"white\" else 1)\n",
    "df = df[column_list]\n",
    "best_epoch_fold_0 = 64\n",
    "best_epoch_fold_1 = 74\n",
    "best_epoch_fold_2 = 4\n",
    "best_epoch_fold_3 = 39\n",
    "best_epoch_fold_4 = 29"
   ]
  },
  {
   "cell_type": "code",
   "execution_count": 12,
   "id": "a0486577-c252-4c54-a828-713936b8d85e",
   "metadata": {},
   "outputs": [],
   "source": [
    "test_dataset = df.values"
   ]
  },
  {
   "cell_type": "code",
   "execution_count": 13,
   "id": "bd1cb8bd-5842-485d-a317-5a3a2805de3d",
   "metadata": {},
   "outputs": [],
   "source": [
    "dataset = torch.from_numpy(test_dataset).float()"
   ]
  },
  {
   "cell_type": "code",
   "execution_count": 14,
   "id": "19188531-ee6a-47ee-b883-b06ff346a69a",
   "metadata": {},
   "outputs": [],
   "source": [
    "checkpoint_0 = torch.load(f\"fold0/model_{best_epoch_fold_0}.pt\")\n",
    "checkpoint_1 = torch.load(f\"fold1/model_{best_epoch_fold_1}.pt\")\n",
    "checkpoint_2 = torch.load(f\"fold2/model_{best_epoch_fold_2}.pt\")\n",
    "checkpoint_3 = torch.load(f\"fold3/model_{best_epoch_fold_3}.pt\")\n",
    "checkpoint_4 = torch.load(f\"fold4/model_{best_epoch_fold_4}.pt\")"
   ]
  },
  {
   "cell_type": "code",
   "execution_count": 15,
   "id": "1378071b-ac7b-4a04-8883-7cd6b3f147ae",
   "metadata": {},
   "outputs": [
    {
     "data": {
      "text/plain": [
       "<All keys matched successfully>"
      ]
     },
     "execution_count": 15,
     "metadata": {},
     "output_type": "execute_result"
    }
   ],
   "source": [
    "model_0 = CustomModel(12, 5)\n",
    "model_0.load_state_dict(checkpoint_0[\"model_state_dict\"])\n",
    "model_1 = CustomModel(12, 5)\n",
    "model_1.load_state_dict(checkpoint_1[\"model_state_dict\"])\n",
    "model_2 = CustomModel(12, 5)\n",
    "model_2.load_state_dict(checkpoint_2[\"model_state_dict\"])\n",
    "model_3 = CustomModel(12, 5)\n",
    "model_3.load_state_dict(checkpoint_3[\"model_state_dict\"])\n",
    "model_4 = CustomModel(12, 5)\n",
    "model_4.load_state_dict(checkpoint_4[\"model_state_dict\"])"
   ]
  },
  {
   "cell_type": "code",
   "execution_count": 19,
   "id": "c091870d-d2a4-42d9-9c56-02fa983bef53",
   "metadata": {},
   "outputs": [],
   "source": [
    "preds_0 = F.softmax(model_0(dataset), dim=-1)\n",
    "preds_1 = F.softmax(model_1(dataset), dim=-1)\n",
    "preds_2 = F.softmax(model_2(dataset), dim=-1)\n",
    "preds_3 = F.softmax(model_3(dataset), dim=-1)\n",
    "preds_4 = F.softmax(model_4(dataset), dim=-1)"
   ]
  },
  {
   "cell_type": "code",
   "execution_count": 22,
   "id": "7d5b1ecf-005e-44ce-9202-806e1084a1ba",
   "metadata": {},
   "outputs": [],
   "source": [
    "preds = preds_0 + preds_1 + preds_2 + preds_3 + preds_4"
   ]
  },
  {
   "cell_type": "code",
   "execution_count": 25,
   "id": "21a880f1-9051-4a2d-a5f5-c875c65b9c4d",
   "metadata": {},
   "outputs": [],
   "source": [
    "res = torch.argmax(preds, axis=-1)"
   ]
  },
  {
   "cell_type": "code",
   "execution_count": 27,
   "id": "07bfb869-d9e8-400b-b8c8-6c52f1e5a62d",
   "metadata": {},
   "outputs": [],
   "source": [
    "res_np = res.numpy()\n",
    "res_np = res_np + 4"
   ]
  },
  {
   "cell_type": "code",
   "execution_count": 28,
   "id": "75304a5b-aa77-4289-a65d-cf3b10349a9c",
   "metadata": {},
   "outputs": [],
   "source": [
    "idx = np.array(range(1, res_np.shape[0]+1))"
   ]
  },
  {
   "cell_type": "code",
   "execution_count": 29,
   "id": "85319c2e-b774-4ff3-9945-fac231c95445",
   "metadata": {},
   "outputs": [],
   "source": [
    "df = pd.DataFrame(zip(idx, res_np), columns=[\"id\", \"quality\"])"
   ]
  },
  {
   "cell_type": "code",
   "execution_count": 30,
   "id": "6b4391c5-31de-4363-afbc-4ba2eda43aa5",
   "metadata": {},
   "outputs": [],
   "source": [
    "df.to_csv(\"result.csv\", index=False)"
   ]
  },
  {
   "cell_type": "code",
   "execution_count": null,
   "id": "9f4105b9-a70a-4fcf-805c-4597fea4140e",
   "metadata": {},
   "outputs": [],
   "source": []
  }
 ],
 "metadata": {
  "kernelspec": {
   "display_name": "Python 3",
   "language": "python",
   "name": "python3"
  },
  "language_info": {
   "codemirror_mode": {
    "name": "ipython",
    "version": 3
   },
   "file_extension": ".py",
   "mimetype": "text/x-python",
   "name": "python",
   "nbconvert_exporter": "python",
   "pygments_lexer": "ipython3",
   "version": "3.7.11"
  }
 },
 "nbformat": 4,
 "nbformat_minor": 5
}
