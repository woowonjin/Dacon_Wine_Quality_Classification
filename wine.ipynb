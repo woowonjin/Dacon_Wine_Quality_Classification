{
 "cells": [
  {
   "cell_type": "code",
   "execution_count": 1,
   "id": "343696a1-49e8-4dd8-85ac-9009ac57810b",
   "metadata": {},
   "outputs": [],
   "source": [
    "import pandas as pd\n",
    "import numpy as np\n",
    "import torch\n",
    "import torch.nn as nn\n",
    "import random\n",
    "import torch.nn.functional as F\n",
    "import wandb\n",
    "\n",
    "from model import CustomModel\n",
    "from torch.utils.data import Dataset, DataLoader\n",
    "from sklearn.model_selection import train_test_split, StratifiedKFold\n",
    "from tqdm import tqdm"
   ]
  },
  {
   "cell_type": "code",
   "execution_count": 2,
   "id": "715c73b2-de24-4f67-95db-568754f2ee64",
   "metadata": {},
   "outputs": [],
   "source": [
    "train_path = \"./dataset/train.csv\"\n",
    "test_path = \"./dataset/test.csv\"\n",
    "seed = 2021\n",
    "def seed_everything(seed) :\n",
    "    torch.manual_seed(seed)\n",
    "    torch.cuda.manual_seed(seed)\n",
    "    torch.cuda.manual_seed_all(seed) # if use multi-GPU\n",
    "    torch.backends.cudnn.deterministic = True\n",
    "    torch.backends.cudnn.benchmark = False\n",
    "    np.random.seed(seed)\n",
    "    random.seed(seed)\n",
    "seed_everything(seed)\n",
    "batch_size = 32"
   ]
  },
  {
   "cell_type": "code",
   "execution_count": 3,
   "id": "e9774bb2-81a1-4384-915f-525010b75f8f",
   "metadata": {},
   "outputs": [],
   "source": [
    "train_df = pd.read_csv(train_path)\n",
    "y_train = train_df[\"quality\"]\n",
    "train_df.drop([\"quality\", \"id\"], axis=1, inplace=True)\n",
    "column_list = list(train_df.columns)\n",
    "del column_list[-1]\n",
    "column_list.append(\"type_int\")"
   ]
  },
  {
   "cell_type": "code",
   "execution_count": 4,
   "id": "c4d6025d-4dc9-4f18-9dd9-3539b457a559",
   "metadata": {},
   "outputs": [
    {
     "data": {
      "text/html": [
       "<div>\n",
       "<style scoped>\n",
       "    .dataframe tbody tr th:only-of-type {\n",
       "        vertical-align: middle;\n",
       "    }\n",
       "\n",
       "    .dataframe tbody tr th {\n",
       "        vertical-align: top;\n",
       "    }\n",
       "\n",
       "    .dataframe thead th {\n",
       "        text-align: right;\n",
       "    }\n",
       "</style>\n",
       "<table border=\"1\" class=\"dataframe\">\n",
       "  <thead>\n",
       "    <tr style=\"text-align: right;\">\n",
       "      <th></th>\n",
       "      <th>fixed acidity</th>\n",
       "      <th>volatile acidity</th>\n",
       "      <th>citric acid</th>\n",
       "      <th>residual sugar</th>\n",
       "      <th>chlorides</th>\n",
       "      <th>free sulfur dioxide</th>\n",
       "      <th>total sulfur dioxide</th>\n",
       "      <th>density</th>\n",
       "      <th>pH</th>\n",
       "      <th>sulphates</th>\n",
       "      <th>alcohol</th>\n",
       "      <th>type_int</th>\n",
       "    </tr>\n",
       "  </thead>\n",
       "  <tbody>\n",
       "    <tr>\n",
       "      <th>0</th>\n",
       "      <td>0.613069</td>\n",
       "      <td>-0.973720</td>\n",
       "      <td>0.346267</td>\n",
       "      <td>-0.862693</td>\n",
       "      <td>-0.444824</td>\n",
       "      <td>-0.896278</td>\n",
       "      <td>-0.363288</td>\n",
       "      <td>-1.135394</td>\n",
       "      <td>-0.952385</td>\n",
       "      <td>0.524733</td>\n",
       "      <td>1.342665</td>\n",
       "      <td>-1</td>\n",
       "    </tr>\n",
       "    <tr>\n",
       "      <th>1</th>\n",
       "      <td>0.227116</td>\n",
       "      <td>0.274060</td>\n",
       "      <td>-0.202226</td>\n",
       "      <td>-0.115200</td>\n",
       "      <td>-0.976715</td>\n",
       "      <td>0.426538</td>\n",
       "      <td>-0.058404</td>\n",
       "      <td>-1.443214</td>\n",
       "      <td>-0.828832</td>\n",
       "      <td>-0.343750</td>\n",
       "      <td>2.096552</td>\n",
       "      <td>-1</td>\n",
       "    </tr>\n",
       "    <tr>\n",
       "      <th>2</th>\n",
       "      <td>-0.853552</td>\n",
       "      <td>-0.412219</td>\n",
       "      <td>0.072020</td>\n",
       "      <td>-0.675819</td>\n",
       "      <td>-0.976715</td>\n",
       "      <td>-0.263627</td>\n",
       "      <td>0.013333</td>\n",
       "      <td>-1.986812</td>\n",
       "      <td>-0.581725</td>\n",
       "      <td>-1.546265</td>\n",
       "      <td>1.677726</td>\n",
       "      <td>-1</td>\n",
       "    </tr>\n",
       "    <tr>\n",
       "      <th>3</th>\n",
       "      <td>-0.621981</td>\n",
       "      <td>-0.100274</td>\n",
       "      <td>1.237568</td>\n",
       "      <td>1.089095</td>\n",
       "      <td>-0.248864</td>\n",
       "      <td>1.519300</td>\n",
       "      <td>1.609486</td>\n",
       "      <td>0.698430</td>\n",
       "      <td>-0.828832</td>\n",
       "      <td>0.457927</td>\n",
       "      <td>-0.918995</td>\n",
       "      <td>-1</td>\n",
       "    </tr>\n",
       "    <tr>\n",
       "      <th>4</th>\n",
       "      <td>0.921832</td>\n",
       "      <td>0.211671</td>\n",
       "      <td>0.757636</td>\n",
       "      <td>-0.655056</td>\n",
       "      <td>0.199044</td>\n",
       "      <td>-1.068820</td>\n",
       "      <td>-1.744229</td>\n",
       "      <td>0.272721</td>\n",
       "      <td>-0.272842</td>\n",
       "      <td>1.860860</td>\n",
       "      <td>0.588779</td>\n",
       "      <td>1</td>\n",
       "    </tr>\n",
       "    <tr>\n",
       "      <th>...</th>\n",
       "      <td>...</td>\n",
       "      <td>...</td>\n",
       "      <td>...</td>\n",
       "      <td>...</td>\n",
       "      <td>...</td>\n",
       "      <td>...</td>\n",
       "      <td>...</td>\n",
       "      <td>...</td>\n",
       "      <td>...</td>\n",
       "      <td>...</td>\n",
       "      <td>...</td>\n",
       "      <td>...</td>\n",
       "    </tr>\n",
       "    <tr>\n",
       "      <th>3226</th>\n",
       "      <td>-0.621981</td>\n",
       "      <td>-1.098498</td>\n",
       "      <td>-0.065103</td>\n",
       "      <td>-0.032145</td>\n",
       "      <td>-0.360841</td>\n",
       "      <td>0.656593</td>\n",
       "      <td>0.730705</td>\n",
       "      <td>-0.038374</td>\n",
       "      <td>0.839138</td>\n",
       "      <td>-0.410556</td>\n",
       "      <td>0.002422</td>\n",
       "      <td>-1</td>\n",
       "    </tr>\n",
       "    <tr>\n",
       "      <th>3227</th>\n",
       "      <td>-0.621981</td>\n",
       "      <td>-0.973720</td>\n",
       "      <td>-0.270788</td>\n",
       "      <td>2.407589</td>\n",
       "      <td>-0.248864</td>\n",
       "      <td>1.289245</td>\n",
       "      <td>0.407887</td>\n",
       "      <td>0.842516</td>\n",
       "      <td>0.221371</td>\n",
       "      <td>-1.212233</td>\n",
       "      <td>0.002422</td>\n",
       "      <td>-1</td>\n",
       "    </tr>\n",
       "    <tr>\n",
       "      <th>3228</th>\n",
       "      <td>-0.930743</td>\n",
       "      <td>-0.349830</td>\n",
       "      <td>-0.476472</td>\n",
       "      <td>-0.758874</td>\n",
       "      <td>-0.388835</td>\n",
       "      <td>-1.298875</td>\n",
       "      <td>-0.148076</td>\n",
       "      <td>-0.578697</td>\n",
       "      <td>-0.828832</td>\n",
       "      <td>0.123895</td>\n",
       "      <td>-1.254056</td>\n",
       "      <td>-1</td>\n",
       "    </tr>\n",
       "    <tr>\n",
       "      <th>3229</th>\n",
       "      <td>0.381498</td>\n",
       "      <td>-0.349830</td>\n",
       "      <td>-0.202226</td>\n",
       "      <td>0.300074</td>\n",
       "      <td>-0.416830</td>\n",
       "      <td>-0.091086</td>\n",
       "      <td>0.838311</td>\n",
       "      <td>0.174480</td>\n",
       "      <td>1.395128</td>\n",
       "      <td>0.457927</td>\n",
       "      <td>0.002422</td>\n",
       "      <td>-1</td>\n",
       "    </tr>\n",
       "    <tr>\n",
       "      <th>3230</th>\n",
       "      <td>-0.081646</td>\n",
       "      <td>-1.160887</td>\n",
       "      <td>0.140582</td>\n",
       "      <td>-0.032145</td>\n",
       "      <td>-0.612790</td>\n",
       "      <td>0.138969</td>\n",
       "      <td>-0.219813</td>\n",
       "      <td>0.207227</td>\n",
       "      <td>0.962691</td>\n",
       "      <td>-0.076524</td>\n",
       "      <td>-1.002760</td>\n",
       "      <td>-1</td>\n",
       "    </tr>\n",
       "  </tbody>\n",
       "</table>\n",
       "<p>3231 rows × 12 columns</p>\n",
       "</div>"
      ],
      "text/plain": [
       "      fixed acidity  volatile acidity  citric acid  residual sugar  chlorides  \\\n",
       "0          0.613069         -0.973720     0.346267       -0.862693  -0.444824   \n",
       "1          0.227116          0.274060    -0.202226       -0.115200  -0.976715   \n",
       "2         -0.853552         -0.412219     0.072020       -0.675819  -0.976715   \n",
       "3         -0.621981         -0.100274     1.237568        1.089095  -0.248864   \n",
       "4          0.921832          0.211671     0.757636       -0.655056   0.199044   \n",
       "...             ...               ...          ...             ...        ...   \n",
       "3226      -0.621981         -1.098498    -0.065103       -0.032145  -0.360841   \n",
       "3227      -0.621981         -0.973720    -0.270788        2.407589  -0.248864   \n",
       "3228      -0.930743         -0.349830    -0.476472       -0.758874  -0.388835   \n",
       "3229       0.381498         -0.349830    -0.202226        0.300074  -0.416830   \n",
       "3230      -0.081646         -1.160887     0.140582       -0.032145  -0.612790   \n",
       "\n",
       "      free sulfur dioxide  total sulfur dioxide   density        pH  \\\n",
       "0               -0.896278             -0.363288 -1.135394 -0.952385   \n",
       "1                0.426538             -0.058404 -1.443214 -0.828832   \n",
       "2               -0.263627              0.013333 -1.986812 -0.581725   \n",
       "3                1.519300              1.609486  0.698430 -0.828832   \n",
       "4               -1.068820             -1.744229  0.272721 -0.272842   \n",
       "...                   ...                   ...       ...       ...   \n",
       "3226             0.656593              0.730705 -0.038374  0.839138   \n",
       "3227             1.289245              0.407887  0.842516  0.221371   \n",
       "3228            -1.298875             -0.148076 -0.578697 -0.828832   \n",
       "3229            -0.091086              0.838311  0.174480  1.395128   \n",
       "3230             0.138969             -0.219813  0.207227  0.962691   \n",
       "\n",
       "      sulphates   alcohol  type_int  \n",
       "0      0.524733  1.342665        -1  \n",
       "1     -0.343750  2.096552        -1  \n",
       "2     -1.546265  1.677726        -1  \n",
       "3      0.457927 -0.918995        -1  \n",
       "4      1.860860  0.588779         1  \n",
       "...         ...       ...       ...  \n",
       "3226  -0.410556  0.002422        -1  \n",
       "3227  -1.212233  0.002422        -1  \n",
       "3228   0.123895 -1.254056        -1  \n",
       "3229   0.457927  0.002422        -1  \n",
       "3230  -0.076524 -1.002760        -1  \n",
       "\n",
       "[3231 rows x 12 columns]"
      ]
     },
     "execution_count": 4,
     "metadata": {},
     "output_type": "execute_result"
    }
   ],
   "source": [
    "train_type = train_df[\"type\"]\n",
    "train_df = (train_df-train_df.mean())/train_df.std()\n",
    "train_df[\"type_int\"] = train_type.map(lambda x : -1 if x == \"white\" else 1)\n",
    "train_df = train_df[column_list]\n",
    "train_df"
   ]
  },
  {
   "cell_type": "code",
   "execution_count": 5,
   "id": "6e4217c7-ad10-4f4f-8cc3-69a7842d5908",
   "metadata": {},
   "outputs": [],
   "source": [
    "y_train = y_train-4"
   ]
  },
  {
   "cell_type": "code",
   "execution_count": 6,
   "id": "23790b96-1c47-4d56-b3e8-6dd332e33ffb",
   "metadata": {},
   "outputs": [],
   "source": [
    "X = train_df.values\n",
    "y = y_train.values"
   ]
  },
  {
   "cell_type": "code",
   "execution_count": 7,
   "id": "1bdc2889-8317-46ff-8cef-9093cd1433cc",
   "metadata": {},
   "outputs": [],
   "source": [
    "class CustomDataset(Dataset):\n",
    "    def __init__(self, x, y):\n",
    "        self.x = x\n",
    "        self.y = y\n",
    "        \n",
    "    def __getitem__(self, idx):\n",
    "        return torch.tensor(self.x[idx]).float(), torch.tensor(self.y[idx])\n",
    "    \n",
    "    def __len__(self):\n",
    "        return self.x.shape[0]"
   ]
  },
  {
   "cell_type": "code",
   "execution_count": 8,
   "id": "3a32ead7-1544-4967-b584-926753cef2d8",
   "metadata": {},
   "outputs": [],
   "source": [
    "class FocalLoss(nn.Module) :\n",
    "    def __init__(self, weight = None, gamma = 2., reduction = 'mean') :\n",
    "        super().__init__()\n",
    "        self.weight = weight\n",
    "        self.gamma = gamma\n",
    "        self.reduction = reduction\n",
    "    \n",
    "    def forward(self, input_tensor, target_tensor) :\n",
    "        log_prob = F.log_softmax(input_tensor, dim = -1) # -log(p)\n",
    "        prob = torch.exp(log_prob)                       # p\n",
    "        return F.nll_loss(                               # Negative Log Likelihood Loss (F.log_softmax + F.nll_loss = F.cross_entropy)\n",
    "            ((1-prob) ** self.gamma) * log_prob,\n",
    "            target_tensor,\n",
    "            weight = self.weight,\n",
    "            reduction = self.reduction\n",
    "        )      "
   ]
  },
  {
   "cell_type": "code",
   "execution_count": null,
   "id": "d1a31940-d05b-49d6-b2c6-29d9703b3e14",
   "metadata": {},
   "outputs": [],
   "source": []
  },
  {
   "cell_type": "code",
   "execution_count": 9,
   "id": "ea656c4b-c3d0-4478-ad9b-85fbf0e6bb08",
   "metadata": {},
   "outputs": [],
   "source": [
    "def evaluate(model, dataloader):\n",
    "    with torch.no_grad():\n",
    "        model.eval()\n",
    "        all_cnt = 0\n",
    "        correct_cnt = 0\n",
    "        for x, y in dataloader:\n",
    "            preds = model(x)\n",
    "            max_args = torch.argmax(preds, dim=1)\n",
    "            res = (max_args==y).int()\n",
    "            all_cnt += res.size(0)\n",
    "            correct_cnt += torch.sum(res)\n",
    "        return correct_cnt/all_cnt"
   ]
  },
  {
   "cell_type": "code",
   "execution_count": 10,
   "id": "f1f8671d-6fb2-4660-8e1b-ae9470054c0c",
   "metadata": {},
   "outputs": [
    {
     "name": "stderr",
     "output_type": "stream",
     "text": [
      "\u001b[34m\u001b[1mwandb\u001b[0m: Currently logged in as: \u001b[33mai_esg\u001b[0m (use `wandb login --relogin` to force relogin)\n"
     ]
    },
    {
     "data": {
      "text/html": [
       "\n",
       "                    Syncing run <strong><a href=\"https://wandb.ai/ai_esg/wine_quality_classification/runs/20innfdi\" target=\"_blank\">fold_0</a></strong> to <a href=\"https://wandb.ai/ai_esg/wine_quality_classification\" target=\"_blank\">Weights & Biases</a> (<a href=\"https://docs.wandb.com/integrations/jupyter.html\" target=\"_blank\">docs</a>).<br/>\n",
       "\n",
       "                "
      ],
      "text/plain": [
       "<IPython.core.display.HTML object>"
      ]
     },
     "metadata": {},
     "output_type": "display_data"
    },
    {
     "name": "stderr",
     "output_type": "stream",
     "text": [
      "100%|██████████| 100/100 [00:33<00:00,  2.98it/s]\n"
     ]
    },
    {
     "data": {
      "text/html": [
       "Finishing last run (ID:20innfdi) before initializing another..."
      ],
      "text/plain": [
       "<IPython.core.display.HTML object>"
      ]
     },
     "metadata": {},
     "output_type": "display_data"
    },
    {
     "data": {
      "text/html": [
       "<br/>Waiting for W&B process to finish, PID 5913... <strong style=\"color:green\">(success).</strong>"
      ],
      "text/plain": [
       "<IPython.core.display.HTML object>"
      ]
     },
     "metadata": {},
     "output_type": "display_data"
    },
    {
     "data": {
      "application/vnd.jupyter.widget-view+json": {
       "model_id": "",
       "version_major": 2,
       "version_minor": 0
      },
      "text/plain": [
       "VBox(children=(Label(value=' 0.00MB of 0.00MB uploaded (0.00MB deduped)\\r'), FloatProgress(value=1.0, max=1.0)…"
      ]
     },
     "metadata": {},
     "output_type": "display_data"
    },
    {
     "data": {
      "text/html": [
       "<style>\n",
       "    table.wandb td:nth-child(1) { padding: 0 10px; text-align: right }\n",
       "    .wandb-row { display: flex; flex-direction: row; flex-wrap: wrap; width: 100% }\n",
       "    .wandb-col { display: flex; flex-direction: column; flex-basis: 100%; flex: 1; padding: 10px; }\n",
       "    </style>\n",
       "<div class=\"wandb-row\"><div class=\"wandb-col\">\n",
       "<h3>Run history:</h3><br/><table class=\"wandb\"><tr><td>loss</td><td>█▆▆▅▅▅▅▅▄▄▄▄▄▄▃▃▃▃▃▃▃▂▃▂▂▂▂▂▂▂▂▂▂▂▂▁▁▁▁▁</td></tr><tr><td>train_accuracy</td><td>▂▁▂▃▃▃▃▃▃▃▃▃▃▃▄▅▄▅▅▆▅▅▅▆▆▆▆▆▅▆▇▇▇▇▇█▆███</td></tr><tr><td>validation_accuracy</td><td>▃▁▅▆▅▇▇▂▃▃▆▄▆▂▃▅▅▄▃▅▄▃▇▇▇██▇▃▅▄▇▆▄▆▇▅▇█▆</td></tr></table><br/></div><div class=\"wandb-col\">\n",
       "<h3>Run summary:</h3><br/><table class=\"wandb\"><tr><td>loss</td><td>14.91979</td></tr><tr><td>train_accuracy</td><td>0.81772</td></tr><tr><td>validation_accuracy</td><td>0.54096</td></tr></table>\n",
       "</div></div>\n",
       "Synced 6 W&B file(s), 0 media file(s), 0 artifact file(s) and 0 other file(s)\n",
       "<br/>Synced <strong style=\"color:#cdcd00\">fold_0</strong>: <a href=\"https://wandb.ai/ai_esg/wine_quality_classification/runs/20innfdi\" target=\"_blank\">https://wandb.ai/ai_esg/wine_quality_classification/runs/20innfdi</a><br/>\n",
       "Find logs at: <code>./wandb/run-20211205_120957-20innfdi/logs</code><br/>\n"
      ],
      "text/plain": [
       "<IPython.core.display.HTML object>"
      ]
     },
     "metadata": {},
     "output_type": "display_data"
    },
    {
     "data": {
      "text/html": [
       "Successfully finished last run (ID:20innfdi). Initializing new run:<br/>"
      ],
      "text/plain": [
       "<IPython.core.display.HTML object>"
      ]
     },
     "metadata": {},
     "output_type": "display_data"
    },
    {
     "data": {
      "text/html": [
       "\n",
       "                    Syncing run <strong><a href=\"https://wandb.ai/ai_esg/wine_quality_classification/runs/21mqceag\" target=\"_blank\">fold_1</a></strong> to <a href=\"https://wandb.ai/ai_esg/wine_quality_classification\" target=\"_blank\">Weights & Biases</a> (<a href=\"https://docs.wandb.com/integrations/jupyter.html\" target=\"_blank\">docs</a>).<br/>\n",
       "\n",
       "                "
      ],
      "text/plain": [
       "<IPython.core.display.HTML object>"
      ]
     },
     "metadata": {},
     "output_type": "display_data"
    },
    {
     "name": "stderr",
     "output_type": "stream",
     "text": [
      "100%|██████████| 100/100 [00:25<00:00,  3.93it/s]\n"
     ]
    },
    {
     "data": {
      "text/html": [
       "Finishing last run (ID:21mqceag) before initializing another..."
      ],
      "text/plain": [
       "<IPython.core.display.HTML object>"
      ]
     },
     "metadata": {},
     "output_type": "display_data"
    },
    {
     "data": {
      "text/html": [
       "<br/>Waiting for W&B process to finish, PID 5961... <strong style=\"color:green\">(success).</strong>"
      ],
      "text/plain": [
       "<IPython.core.display.HTML object>"
      ]
     },
     "metadata": {},
     "output_type": "display_data"
    },
    {
     "data": {
      "application/vnd.jupyter.widget-view+json": {
       "model_id": "",
       "version_major": 2,
       "version_minor": 0
      },
      "text/plain": [
       "VBox(children=(Label(value=' 0.00MB of 0.00MB uploaded (0.00MB deduped)\\r'), FloatProgress(value=1.0, max=1.0)…"
      ]
     },
     "metadata": {},
     "output_type": "display_data"
    },
    {
     "data": {
      "text/html": [
       "<style>\n",
       "    table.wandb td:nth-child(1) { padding: 0 10px; text-align: right }\n",
       "    .wandb-row { display: flex; flex-direction: row; flex-wrap: wrap; width: 100% }\n",
       "    .wandb-col { display: flex; flex-direction: column; flex-basis: 100%; flex: 1; padding: 10px; }\n",
       "    </style>\n",
       "<div class=\"wandb-row\"><div class=\"wandb-col\">\n",
       "<h3>Run history:</h3><br/><table class=\"wandb\"><tr><td>loss</td><td>█▆▅▅▄▄▄▄▄▄▄▄▃▃▃▃▃▃▃▃▂▂▂▂▂▂▂▂▂▂▂▁▂▁▁▁▁▁▁▁</td></tr><tr><td>train_accuracy</td><td>▁▁▂▂▁▂▂▂▃▃▄▃▃▃▄▅▄▅▄▅▅▆▅▆▆▅▇▆▅▆▆█▆████▇█▇</td></tr><tr><td>validation_accuracy</td><td>▃▂▅▅▁▅▅▅▅▇▇▇▄▃▅█▇█▆▆▆▆█▇▅▄▆▃▇▂▇▇▅▇█▇▇▆▅▅</td></tr></table><br/></div><div class=\"wandb-col\">\n",
       "<h3>Run summary:</h3><br/><table class=\"wandb\"><tr><td>loss</td><td>11.6805</td></tr><tr><td>train_accuracy</td><td>0.80735</td></tr><tr><td>validation_accuracy</td><td>0.56347</td></tr></table>\n",
       "</div></div>\n",
       "Synced 6 W&B file(s), 0 media file(s), 0 artifact file(s) and 0 other file(s)\n",
       "<br/>Synced <strong style=\"color:#cdcd00\">fold_1</strong>: <a href=\"https://wandb.ai/ai_esg/wine_quality_classification/runs/21mqceag\" target=\"_blank\">https://wandb.ai/ai_esg/wine_quality_classification/runs/21mqceag</a><br/>\n",
       "Find logs at: <code>./wandb/run-20211205_121036-21mqceag/logs</code><br/>\n"
      ],
      "text/plain": [
       "<IPython.core.display.HTML object>"
      ]
     },
     "metadata": {},
     "output_type": "display_data"
    },
    {
     "data": {
      "text/html": [
       "Successfully finished last run (ID:21mqceag). Initializing new run:<br/>"
      ],
      "text/plain": [
       "<IPython.core.display.HTML object>"
      ]
     },
     "metadata": {},
     "output_type": "display_data"
    },
    {
     "data": {
      "text/html": [
       "\n",
       "                    Syncing run <strong><a href=\"https://wandb.ai/ai_esg/wine_quality_classification/runs/ufd3n814\" target=\"_blank\">fold_2</a></strong> to <a href=\"https://wandb.ai/ai_esg/wine_quality_classification\" target=\"_blank\">Weights & Biases</a> (<a href=\"https://docs.wandb.com/integrations/jupyter.html\" target=\"_blank\">docs</a>).<br/>\n",
       "\n",
       "                "
      ],
      "text/plain": [
       "<IPython.core.display.HTML object>"
      ]
     },
     "metadata": {},
     "output_type": "display_data"
    },
    {
     "name": "stderr",
     "output_type": "stream",
     "text": [
      "100%|██████████| 100/100 [00:25<00:00,  3.90it/s]\n"
     ]
    },
    {
     "data": {
      "text/html": [
       "Finishing last run (ID:ufd3n814) before initializing another..."
      ],
      "text/plain": [
       "<IPython.core.display.HTML object>"
      ]
     },
     "metadata": {},
     "output_type": "display_data"
    },
    {
     "data": {
      "text/html": [
       "<br/>Waiting for W&B process to finish, PID 5998... <strong style=\"color:green\">(success).</strong>"
      ],
      "text/plain": [
       "<IPython.core.display.HTML object>"
      ]
     },
     "metadata": {},
     "output_type": "display_data"
    },
    {
     "data": {
      "application/vnd.jupyter.widget-view+json": {
       "model_id": "",
       "version_major": 2,
       "version_minor": 0
      },
      "text/plain": [
       "VBox(children=(Label(value=' 0.00MB of 0.00MB uploaded (0.00MB deduped)\\r'), FloatProgress(value=1.0, max=1.0)…"
      ]
     },
     "metadata": {},
     "output_type": "display_data"
    },
    {
     "data": {
      "text/html": [
       "<style>\n",
       "    table.wandb td:nth-child(1) { padding: 0 10px; text-align: right }\n",
       "    .wandb-row { display: flex; flex-direction: row; flex-wrap: wrap; width: 100% }\n",
       "    .wandb-col { display: flex; flex-direction: column; flex-basis: 100%; flex: 1; padding: 10px; }\n",
       "    </style>\n",
       "<div class=\"wandb-row\"><div class=\"wandb-col\">\n",
       "<h3>Run history:</h3><br/><table class=\"wandb\"><tr><td>loss</td><td>█▆▅▅▅▄▄▄▄▄▄▄▄▃▃▃▃▃▃▃▃▃▂▂▂▃▂▂▂▂▂▂▂▁▁▁▂▁▁▁</td></tr><tr><td>train_accuracy</td><td>▁▁▂▂▃▃▃▃▃▃▃▃▄▃▄▄▄▅▅▆▅▆▆▅▆▆▇▆▅▅▇▇▇▆█▇█▇██</td></tr><tr><td>validation_accuracy</td><td>▇▂▄▇▅▃▆▄▆▆▂▁▆▂▆▅▆▅▅▆▁█▇▅▅▅▆▄▁▄▆▇█▅▆▅▃█▇█</td></tr></table><br/></div><div class=\"wandb-col\">\n",
       "<h3>Run summary:</h3><br/><table class=\"wandb\"><tr><td>loss</td><td>11.69016</td></tr><tr><td>train_accuracy</td><td>0.81547</td></tr><tr><td>validation_accuracy</td><td>0.55263</td></tr></table>\n",
       "</div></div>\n",
       "Synced 6 W&B file(s), 0 media file(s), 0 artifact file(s) and 0 other file(s)\n",
       "<br/>Synced <strong style=\"color:#cdcd00\">fold_2</strong>: <a href=\"https://wandb.ai/ai_esg/wine_quality_classification/runs/ufd3n814\" target=\"_blank\">https://wandb.ai/ai_esg/wine_quality_classification/runs/ufd3n814</a><br/>\n",
       "Find logs at: <code>./wandb/run-20211205_121111-ufd3n814/logs</code><br/>\n"
      ],
      "text/plain": [
       "<IPython.core.display.HTML object>"
      ]
     },
     "metadata": {},
     "output_type": "display_data"
    },
    {
     "data": {
      "text/html": [
       "Successfully finished last run (ID:ufd3n814). Initializing new run:<br/>"
      ],
      "text/plain": [
       "<IPython.core.display.HTML object>"
      ]
     },
     "metadata": {},
     "output_type": "display_data"
    },
    {
     "data": {
      "text/html": [
       "\n",
       "                    Syncing run <strong><a href=\"https://wandb.ai/ai_esg/wine_quality_classification/runs/1m0i0osp\" target=\"_blank\">fold_3</a></strong> to <a href=\"https://wandb.ai/ai_esg/wine_quality_classification\" target=\"_blank\">Weights & Biases</a> (<a href=\"https://docs.wandb.com/integrations/jupyter.html\" target=\"_blank\">docs</a>).<br/>\n",
       "\n",
       "                "
      ],
      "text/plain": [
       "<IPython.core.display.HTML object>"
      ]
     },
     "metadata": {},
     "output_type": "display_data"
    },
    {
     "name": "stderr",
     "output_type": "stream",
     "text": [
      "100%|██████████| 100/100 [00:25<00:00,  3.92it/s]\n"
     ]
    },
    {
     "data": {
      "text/html": [
       "Finishing last run (ID:1m0i0osp) before initializing another..."
      ],
      "text/plain": [
       "<IPython.core.display.HTML object>"
      ]
     },
     "metadata": {},
     "output_type": "display_data"
    },
    {
     "data": {
      "text/html": [
       "<br/>Waiting for W&B process to finish, PID 6035... <strong style=\"color:green\">(success).</strong>"
      ],
      "text/plain": [
       "<IPython.core.display.HTML object>"
      ]
     },
     "metadata": {},
     "output_type": "display_data"
    },
    {
     "data": {
      "application/vnd.jupyter.widget-view+json": {
       "model_id": "",
       "version_major": 2,
       "version_minor": 0
      },
      "text/plain": [
       "VBox(children=(Label(value=' 0.00MB of 0.00MB uploaded (0.00MB deduped)\\r'), FloatProgress(value=1.0, max=1.0)…"
      ]
     },
     "metadata": {},
     "output_type": "display_data"
    },
    {
     "data": {
      "text/html": [
       "<style>\n",
       "    table.wandb td:nth-child(1) { padding: 0 10px; text-align: right }\n",
       "    .wandb-row { display: flex; flex-direction: row; flex-wrap: wrap; width: 100% }\n",
       "    .wandb-col { display: flex; flex-direction: column; flex-basis: 100%; flex: 1; padding: 10px; }\n",
       "    </style>\n",
       "<div class=\"wandb-row\"><div class=\"wandb-col\">\n",
       "<h3>Run history:</h3><br/><table class=\"wandb\"><tr><td>loss</td><td>█▆▅▅▅▅▅▄▄▄▄▄▄▄▃▃▃▃▃▃▃▂▂▂▂▂▂▂▂▂▂▂▂▁▂▁▁▁▁▁</td></tr><tr><td>train_accuracy</td><td>▁▁▁▁▂▂▂▂▃▂▃▃▃▃▃▄▄▄▄▄▅▄▄▄▅▆▆▆▅▆▆▅▆▇▆▇▇▇▇█</td></tr><tr><td>validation_accuracy</td><td>▅▄▂▃▄▃▆▃▆▄▄▅▆▃▇▆▃▄▄▇▇▁▅▃█▄▅▆▃▄▅▄▁▅▅▃█▅▅▆</td></tr></table><br/></div><div class=\"wandb-col\">\n",
       "<h3>Run summary:</h3><br/><table class=\"wandb\"><tr><td>loss</td><td>11.86505</td></tr><tr><td>train_accuracy</td><td>0.86499</td></tr><tr><td>validation_accuracy</td><td>0.56347</td></tr></table>\n",
       "</div></div>\n",
       "Synced 6 W&B file(s), 0 media file(s), 0 artifact file(s) and 0 other file(s)\n",
       "<br/>Synced <strong style=\"color:#cdcd00\">fold_3</strong>: <a href=\"https://wandb.ai/ai_esg/wine_quality_classification/runs/1m0i0osp\" target=\"_blank\">https://wandb.ai/ai_esg/wine_quality_classification/runs/1m0i0osp</a><br/>\n",
       "Find logs at: <code>./wandb/run-20211205_121146-1m0i0osp/logs</code><br/>\n"
      ],
      "text/plain": [
       "<IPython.core.display.HTML object>"
      ]
     },
     "metadata": {},
     "output_type": "display_data"
    },
    {
     "data": {
      "text/html": [
       "Successfully finished last run (ID:1m0i0osp). Initializing new run:<br/>"
      ],
      "text/plain": [
       "<IPython.core.display.HTML object>"
      ]
     },
     "metadata": {},
     "output_type": "display_data"
    },
    {
     "data": {
      "text/html": [
       "\n",
       "                    Syncing run <strong><a href=\"https://wandb.ai/ai_esg/wine_quality_classification/runs/89tku2kj\" target=\"_blank\">fold_4</a></strong> to <a href=\"https://wandb.ai/ai_esg/wine_quality_classification\" target=\"_blank\">Weights & Biases</a> (<a href=\"https://docs.wandb.com/integrations/jupyter.html\" target=\"_blank\">docs</a>).<br/>\n",
       "\n",
       "                "
      ],
      "text/plain": [
       "<IPython.core.display.HTML object>"
      ]
     },
     "metadata": {},
     "output_type": "display_data"
    },
    {
     "name": "stderr",
     "output_type": "stream",
     "text": [
      "100%|██████████| 100/100 [00:25<00:00,  3.86it/s]\n"
     ]
    }
   ],
   "source": [
    "epochs = 100\n",
    "\n",
    "config = {\"epoch\":epochs, \"batch_size\":batch_size}\n",
    "\n",
    "stratified_kfold = StratifiedKFold(n_splits=5)\n",
    "\n",
    "fold_num = 0\n",
    "for train_idx, test_idx in stratified_kfold.split(X, y):\n",
    "    model = CustomModel(12 ,5)\n",
    "    model.init_weights()\n",
    "    criterion = FocalLoss()\n",
    "    optimizer = torch.optim.Adam(model.parameters())\n",
    "\n",
    "    \n",
    "    PATH = f\"fold{fold_num}\"\n",
    "    wandb.init(project=\"wine_quality_classification\", config=config, name=f\"fold_{fold_num}\")\n",
    "    train_x, val_x, train_y, val_y = X[train_idx], X[test_idx], y[train_idx], y[test_idx]\n",
    "    \n",
    "    train_dataset = CustomDataset(train_x, train_y)\n",
    "    val_dataset = CustomDataset(val_x, val_y)\n",
    "    \n",
    "    train_dataloader = DataLoader(train_dataset, batch_size=batch_size, shuffle=True)\n",
    "    eval_train_dataloader = DataLoader(train_dataset, batch_size=batch_size)\n",
    "    val_dataloader = DataLoader(val_dataset, batch_size=batch_size)\n",
    "\n",
    "    for epoch in tqdm(range(epochs)):\n",
    "        epoch_loss = 0\n",
    "        for batch_x, batch_y in train_dataloader:\n",
    "            model.train()\n",
    "            preds = model(batch_x)\n",
    "            loss = criterion(preds, batch_y)\n",
    "            optimizer.zero_grad()\n",
    "            loss.backward()\n",
    "\n",
    "            optimizer.step()\n",
    "            epoch_loss += loss\n",
    "        train_acc = evaluate(model, eval_train_dataloader)\n",
    "        val_acc = evaluate(model, val_dataloader)\n",
    "        torch.save({\"model_state_dict\": model.state_dict(), \"loss\":epoch_loss}, f\"{PATH}/model_{epoch}.pt\")\n",
    "        wandb.log({\"train_accuracy\": train_acc, \"validation_accuracy\": val_acc ,\"loss\": epoch_loss})\n",
    "    fold_num += 1"
   ]
  },
  {
   "cell_type": "code",
   "execution_count": null,
   "id": "9fd82dec-4e03-431d-989b-b97a57896ef0",
   "metadata": {},
   "outputs": [],
   "source": []
  },
  {
   "cell_type": "code",
   "execution_count": null,
   "id": "3a0e0193-d7e2-4a1f-805d-98155262c2c0",
   "metadata": {},
   "outputs": [],
   "source": []
  }
 ],
 "metadata": {
  "kernelspec": {
   "display_name": "Python 3",
   "language": "python",
   "name": "python3"
  },
  "language_info": {
   "codemirror_mode": {
    "name": "ipython",
    "version": 3
   },
   "file_extension": ".py",
   "mimetype": "text/x-python",
   "name": "python",
   "nbconvert_exporter": "python",
   "pygments_lexer": "ipython3",
   "version": "3.7.11"
  }
 },
 "nbformat": 4,
 "nbformat_minor": 5
}
